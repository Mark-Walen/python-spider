{
 "cells": [
  {
   "cell_type": "markdown",
   "id": "bde179cf-ccdc-46ab-a14e-5e56d9e99c0e",
   "metadata": {
    "pycharm": {
     "name": "#%% md\n"
    }
   },
   "source": [
    "# Selenium 的使用\n",
    "## 1. 基本使用"
   ]
  },
  {
   "cell_type": "code",
   "execution_count": null,
   "id": "fe80c000-45b4-4913-9174-4a75a98d4810",
   "metadata": {},
   "outputs": [],
   "source": [
    "from selenium import webdriver\n",
    "from selenium.webdriver.common.by import By\n",
    "from selenium.webdriver.common.keys import Keys\n",
    "from selenium.webdriver.support import expected_conditions as EC\n",
    "from selenium.webdriver.support.wait import WebDriverWait\n",
    "\n",
    "# 初始化浏览器对象\n",
    "browser = webdriver.Chrome()\n",
    "\n",
    "try:\n",
    "    browser.get('https://www.baidu.com')\n",
    "    inp = browser.find_element_by_id('kw')\n",
    "    # 搜索关键字\n",
    "    inp.send_keys('Python')\n",
    "    # 执行确认键，进行搜索\n",
    "    inp.send_keys(Keys.ENTER)\n",
    "    wait = WebDriverWait(browser, 10)\n",
    "    wait.until(EC.presence_of_element_located((By.ID, 'content_left')))\n",
    "    print(browser.current_url)\n",
    "    print(browser.get_cookies())\n",
    "    print(browser.page_source)\n",
    "\n",
    "finally:\n",
    "    browser.close()"
   ]
  },
  {
   "cell_type": "markdown",
   "id": "c53cbecd-c317-4100-baf3-4b851217659e",
   "metadata": {},
   "source": [
    "## 2. 访问页面"
   ]
  },
  {
   "cell_type": "markdown",
   "id": "79fb9c80-98a0-430c-9289-3654260a6ed2",
   "metadata": {
    "tags": []
   },
   "source": [
    "## 3. 查找节点\n",
    "### 3.1 查找单个节点\n",
    "+ 所有方法\n",
    "```python\n",
    "find_element_by_id\n",
    "find_element_by_name\n",
    "find_element_by_xpath\n",
    "find_element_by_link_text\n",
    "find_element_by_partial_link_text\n",
    "find_element_by_tag_name\n",
    "find_element_by_class_name\n",
    "find_element_by_css_selector\n",
    "```\n",
    "+ 通用方法\n",
    "```\n",
    "@param By 查找方式\n",
    "@param val 值\n",
    "find_element\n",
    "```"
   ]
  },
  {
   "cell_type": "code",
   "execution_count": 7,
   "id": "35f94ea6-411a-456a-8792-847261412adb",
   "metadata": {},
   "outputs": [
    {
     "name": "stdout",
     "output_type": "stream",
     "text": [
      "<selenium.webdriver.remote.webelement.WebElement (session=\"1450fcbff4236bd099674a0441e8bac9\", element=\"dbbd8bcd-9437-4ea6-b9fe-cfd2c0bad573\")>\n",
      "<selenium.webdriver.remote.webelement.WebElement (session=\"1450fcbff4236bd099674a0441e8bac9\", element=\"dbbd8bcd-9437-4ea6-b9fe-cfd2c0bad573\")>\n",
      "<selenium.webdriver.remote.webelement.WebElement (session=\"1450fcbff4236bd099674a0441e8bac9\", element=\"dbbd8bcd-9437-4ea6-b9fe-cfd2c0bad573\")>\n",
      "<selenium.webdriver.remote.webelement.WebElement (session=\"1450fcbff4236bd099674a0441e8bac9\", element=\"dbbd8bcd-9437-4ea6-b9fe-cfd2c0bad573\")>\n",
      "\n"
     ]
    }
   ],
   "source": [
    "from selenium import webdriver\n",
    "from selenium.webdriver.common.by import By\n",
    "\n",
    "# 初始化浏览器对象\n",
    "browser = webdriver.Chrome()\n",
    "\n",
    "browser.get('https://www.taobao.com')\n",
    "input_first = browser.find_element_by_id('q')\n",
    "input_second = browser.find_element_by_css_selector('#q')\n",
    "input_third = browser.find_element_by_xpath('//*[@id=\"q\"]')\n",
    "input_fourth = browser.find_element(By.ID, 'q')\n",
    "print('{0}\\n{1}\\n{2}\\n{3}\\n'.format(input_first, input_second, input_third, input_fourth))\n",
    "browser.close()"
   ]
  },
  {
   "cell_type": "markdown",
   "id": "f130626e-da26-497b-98db-bfc2ae781979",
   "metadata": {},
   "source": [
    "### 3.2 查找多个节点\n",
    "+ 所有方法\n",
    "```python\n",
    "# 返回结果列表类型，列表中的每个节点都是 WebElement 类型\n",
    "find_elements_by_id\n",
    "find_elements_by_name\n",
    "find_elements_by_xpath\n",
    "find_elements_by_link_text\n",
    "find_elements_by_partial_link_text\n",
    "find_elements_by_tag_name\n",
    "find_elements_by_class_name\n",
    "find_elements_by_css_selector\n",
    "```\n",
    "+ 通用方法\n",
    "```python\n",
    "# @param By 查找方式\n",
    "# @param val 值\n",
    "find_elements\n",
    "```"
   ]
  },
  {
   "cell_type": "code",
   "execution_count": 9,
   "id": "d89f6bdb-4130-4bea-a42e-563d1b0d1def",
   "metadata": {},
   "outputs": [
    {
     "name": "stdout",
     "output_type": "stream",
     "text": [
      "[<selenium.webdriver.remote.webelement.WebElement (session=\"7b97103599e769d297fdf2030bf512a3\", element=\"663fcf3e-b677-4780-bf16-462adfef7e35\")>, <selenium.webdriver.remote.webelement.WebElement (session=\"7b97103599e769d297fdf2030bf512a3\", element=\"7f23f459-7b84-48e6-8d61-ddfaf97119c0\")>, <selenium.webdriver.remote.webelement.WebElement (session=\"7b97103599e769d297fdf2030bf512a3\", element=\"501664d1-0f44-41c0-be61-da26f1b1dab1\")>, <selenium.webdriver.remote.webelement.WebElement (session=\"7b97103599e769d297fdf2030bf512a3\", element=\"217c0496-cd64-4e8a-960c-328058f8c35a\")>, <selenium.webdriver.remote.webelement.WebElement (session=\"7b97103599e769d297fdf2030bf512a3\", element=\"96a507b8-4243-46c9-a712-b419d48beebb\")>, <selenium.webdriver.remote.webelement.WebElement (session=\"7b97103599e769d297fdf2030bf512a3\", element=\"238d9c33-18ca-4328-8daf-0f10778674f7\")>, <selenium.webdriver.remote.webelement.WebElement (session=\"7b97103599e769d297fdf2030bf512a3\", element=\"c3eb473b-a475-4401-9362-d66bc7bb79fa\")>, <selenium.webdriver.remote.webelement.WebElement (session=\"7b97103599e769d297fdf2030bf512a3\", element=\"fb1f899c-01af-4f25-8d4e-c6a056e36597\")>, <selenium.webdriver.remote.webelement.WebElement (session=\"7b97103599e769d297fdf2030bf512a3\", element=\"3bd64abd-71da-4ba4-a7ce-fa4b8d56217e\")>, <selenium.webdriver.remote.webelement.WebElement (session=\"7b97103599e769d297fdf2030bf512a3\", element=\"44bf5b3f-e494-4d6c-8f0e-a70364aaa5cd\")>, <selenium.webdriver.remote.webelement.WebElement (session=\"7b97103599e769d297fdf2030bf512a3\", element=\"aa510838-958f-4c3c-98d1-d9675f1f4fc3\")>, <selenium.webdriver.remote.webelement.WebElement (session=\"7b97103599e769d297fdf2030bf512a3\", element=\"3688d279-1507-4679-a559-3aba11c44ad9\")>, <selenium.webdriver.remote.webelement.WebElement (session=\"7b97103599e769d297fdf2030bf512a3\", element=\"4b37684e-e25a-4802-b48c-cdbf4949321f\")>, <selenium.webdriver.remote.webelement.WebElement (session=\"7b97103599e769d297fdf2030bf512a3\", element=\"b89ceb02-79c0-4db7-a65e-14742da1ca9d\")>, <selenium.webdriver.remote.webelement.WebElement (session=\"7b97103599e769d297fdf2030bf512a3\", element=\"f7985bac-f1c4-49ce-ae4e-11ff535fbd39\")>]\n"
     ]
    }
   ],
   "source": [
    "from selenium import webdriver\n",
    "\n",
    "browser = webdriver.Chrome()\n",
    "\n",
    "browser.get('https://www.taobao.com')\n",
    "lis = browser.find_elements_by_css_selector('.service-bd li')\n",
    "print(lis)\n",
    "browser.close()"
   ]
  },
  {
   "cell_type": "markdown",
   "id": "bcb72fd9-b154-4e12-845c-821327ad205c",
   "metadata": {},
   "source": [
    "## 4.节点交互\n",
    "> selenium 可以让浏览器模拟执行一些操作。\n",
    "\n",
    "**常见节点的动作操作**\n",
    "+ 输入文字时用 `send_keys()` 方法\n",
    "+ 清空文字时用 `clear()` 方法\n",
    "+ 点击按钮时用 `click()` 方法"
   ]
  },
  {
   "cell_type": "code",
   "execution_count": 18,
   "id": "fe78c678-5e4a-4fc4-a810-12fb929ddabf",
   "metadata": {},
   "outputs": [],
   "source": [
    "from selenium import webdriver\n",
    "import time\n",
    "\n",
    "browser = webdriver.Chrome()\n",
    "\n",
    "browser.get('https://www.taobao.com')\n",
    "inp = browser.find_element_by_id('q')\n",
    "inp.send_keys('iPhone')\n",
    "time.sleep(1)\n",
    "inp.clear()\n",
    "inp.send_keys('iPad')\n",
    "button = browser.find_element_by_class_name('btn-search')\n",
    "button.click()"
   ]
  },
  {
   "cell_type": "markdown",
   "id": "392df309-8356-41d7-bbca-95f1d9ae1a90",
   "metadata": {},
   "source": [
    "## 5. 动作链"
   ]
  },
  {
   "cell_type": "code",
   "execution_count": 23,
   "id": "e83b4a40-a3a9-4c85-b3a5-5a5da1537b20",
   "metadata": {},
   "outputs": [],
   "source": [
    "# 实现一个节点的拖拽操作\n",
    "from selenium import webdriver\n",
    "from selenium.webdriver import ActionChains\n",
    "\n",
    "browser = webdriver.Chrome()\n",
    "url = 'http://www.runoob.com/try/try.php?filename=jqueryui-api-droppable'\n",
    "browser.get(url)\n",
    "browser.switch_to.frame('iframeResult')\n",
    "\n",
    "# 选择要拖拽的节点\n",
    "source = browser.find_element_by_css_selector('#draggable')\n",
    "# 选择要拖拽到的目标节点\n",
    "target = browser.find_element_by_css_selector('#droppable')\n",
    "\n",
    "# 声明 ActionChains 对象\n",
    "actions = ActionChains(browser)\n",
    "# 调用 drag_and_drop() 方法，再调用 perform() 方法执行动作\n",
    "actions.drag_and_drop(source, target)\n",
    "actions.perform()"
   ]
  },
  {
   "cell_type": "markdown",
   "id": "6272bb39-3892-499d-92eb-7988bf679bc0",
   "metadata": {},
   "source": [
    "## 6. 执行 Javascript\n",
    "对于某些操作，selenium API 并没有提供。比如，下拉进度条，它可以直接模拟运行 JavaScript，使用 `execute_script()` 方法即可实现"
   ]
  },
  {
   "cell_type": "code",
   "execution_count": 25,
   "id": "844e8b49-907a-445d-87b6-3c8abd70aab7",
   "metadata": {},
   "outputs": [],
   "source": [
    "from selenium import webdriver\n",
    "\n",
    "browser = webdriver.Chrome()\n",
    "\n",
    "browser.get('https://www.zhihu.com/explore')\n",
    "browser.execute_script('window.scrollTo(0, document.body.scrollHeight)')\n",
    "browser.execute_script('alert(\"To Bottom\")')"
   ]
  },
  {
   "cell_type": "markdown",
   "id": "13b5c031-23aa-4849-a89f-428141d61fa5",
   "metadata": {},
   "source": [
    "## 7. 获取节点信息\n",
    "+ 获取属性：get_attribute()方法"
   ]
  },
  {
   "cell_type": "code",
   "execution_count": 31,
   "id": "33f7898b-c958-46e8-a16d-dce857011168",
   "metadata": {},
   "outputs": [
    {
     "name": "stdout",
     "output_type": "stream",
     "text": [
      "<selenium.webdriver.remote.webelement.WebElement (session=\"e0f87f1f969c1c9b520eeb58e985763d\", element=\"efbd587a-f1f2-4790-aceb-fd30aea69407\")>\n",
      "Sticky AppHeader css-1x8hcdw\n"
     ]
    }
   ],
   "source": [
    "from selenium import webdriver\n",
    "from selenium.webdriver import ActionChains\n",
    "browser = webdriver.Chrome()\n",
    "\n",
    "browser.get('https://www.zhihu.com/explore')\n",
    "logo = browser.find_element_by_class_name('AppHeader')\n",
    "print(logo)\n",
    "print(logo.get_attribute('class'))"
   ]
  },
  {
   "cell_type": "markdown",
   "id": "2468e20e-f99d-47bd-bd0b-5f8052ac3aa0",
   "metadata": {},
   "source": [
    "+ 获取文本值：直接调用这个属性就可以得到节点内部的文本信息,相当于 Beautiful Soup的 `get_text()` 方法、pyquery 的 `text()` 方法"
   ]
  },
  {
   "cell_type": "code",
   "execution_count": 33,
   "id": "385249d5-a1da-4798-a104-76694150d027",
   "metadata": {},
   "outputs": [
    {
     "name": "stdout",
     "output_type": "stream",
     "text": [
      "\n",
      "哈尔滨新增新冠确诊病例 3 例\n"
     ]
    }
   ],
   "source": [
    "from selenium import webdriver\n",
    "from selenium.webdriver import ActionChains\n",
    "browser = webdriver.Chrome()\n",
    "\n",
    "browser.get('https://www.zhihu.com/explore')\n",
    "input = browser.find_element_by_class_name('Input')\n",
    "print(input.text)\n",
    "print(input.get_attribute('placeholder'))"
   ]
  },
  {
   "cell_type": "markdown",
   "id": "3726a48d-8826-4537-be81-1a636772e64e",
   "metadata": {},
   "source": [
    "+ 获取 id、位置、标签名和大小"
   ]
  },
  {
   "cell_type": "code",
   "execution_count": 34,
   "id": "ea8006a0-ab7c-4b44-a95f-1255dcf17593",
   "metadata": {},
   "outputs": [
    {
     "name": "stdout",
     "output_type": "stream",
     "text": [
      "55742fe3-cffc-46f0-a74e-f6bccb08d32e\n",
      "{'x': 425, 'y': 14}\n",
      "input\n",
      "{'height': 24, 'width': 408}\n"
     ]
    }
   ],
   "source": [
    "from selenium import webdriver\n",
    "from selenium.webdriver import ActionChains\n",
    "browser = webdriver.Chrome()\n",
    "\n",
    "browser.get('https://www.zhihu.com/explore')\n",
    "input = browser.find_element_by_class_name('Input')\n",
    "print(input.id)\n",
    "print(input.location)\n",
    "print(input.tag_name)\n",
    "print(input.size)"
   ]
  },
  {
   "cell_type": "markdown",
   "id": "eb8f452e-67d1-415c-a787-2cbe76b2b92d",
   "metadata": {},
   "source": [
    "## 10.切换 Frame\n",
    "> Selenium 打卡页面后，它默认打开的是在父级 Frame 里的操作。\n",
    "\n",
    "如果需要获取到子 Frame 里面的节点，需要调用 `switch_to.frame()` 方法来切换 Frame"
   ]
  },
  {
   "cell_type": "code",
   "execution_count": 3,
   "id": "f9d8d40e-6ce5-4fbf-86c3-82f7fd6a5ab4",
   "metadata": {},
   "outputs": [
    {
     "name": "stdout",
     "output_type": "stream",
     "text": [
      "No Logo\n",
      "<selenium.webdriver.remote.webelement.WebElement (session=\"e8aef9cfd52167f87fd444a6c491c6de\", element=\"a9ca5662-d41e-4822-a377-2d6cece7e930\")>\n",
      "RUNOOB.COM\n"
     ]
    }
   ],
   "source": [
    "from selenium import webdriver\n",
    "from selenium.common.exceptions import NoSuchElementException\n",
    "import time\n",
    "\n",
    "browser  = webdriver.Chrome()\n",
    "url = 'http://www.runoob.com/try/try.php?filename=jqueryui-api-droppable'\n",
    "browser.get(url)\n",
    "browser.switch_to.frame('iframeResult')\n",
    "try:\n",
    "    logo = browser.find_element_by_class_name('logo')\n",
    "except NoSuchElementException:\n",
    "    print('No Logo')\n",
    "browser.switch_to.parent_frame()\n",
    "logo = browser.find_element_by_class_name('logo')\n",
    "print(logo)\n",
    "print(logo.text)"
   ]
  },
  {
   "cell_type": "markdown",
   "id": "d54d3558-8a49-4862-befb-82ce837cb879",
   "metadata": {},
   "source": [
    "## 11. 延时等待\n",
    "> get 方法会在**网页框架加载后**结束执行，此时如果获取 page_source，可能并不是浏览器完全加载完成的页面\n",
    "\n",
    "如果页面存在 Ajax 请求，我们的网页源代码也不一定能成功获取，所以需要延时等待一段事件，确保节点已经加载出来。\n",
    "+ **隐式等待**\n",
    "    - **概念** 当使用隐式等待执行测试的时候，如果 Selenium 没有在 DOM 中找到节点，将继续等待，超出设定的时间后，会抛出异常。换句话说，隐式等待将等待一段时间再查找 DOM，默认事件是 0.\n",
    "    - **缺点**\n",
    "    页面的加载时间受网络影响，而设置的等待时间是一个固定值，所以不一定能达到目的。"
   ]
  },
  {
   "cell_type": "code",
   "execution_count": 5,
   "id": "be45a2e4-f03b-4361-bd95-cf7b9818ad04",
   "metadata": {
    "collapsed": true,
    "jupyter": {
     "outputs_hidden": true
    },
    "tags": []
   },
   "outputs": [
    {
     "ename": "NoSuchElementException",
     "evalue": "Message: no such element: Unable to locate element: {\"method\":\"css selector\",\"selector\":\".zu-top-add-question\"}\n  (Session info: chrome=93.0.4577.82)\n",
     "output_type": "error",
     "traceback": [
      "\u001B[1;31m---------------------------------------------------------------------------\u001B[0m",
      "\u001B[1;31mNoSuchElementException\u001B[0m                    Traceback (most recent call last)",
      "\u001B[1;32mC:\\Users\\BLUEVI~1\\AppData\\Local\\Temp/ipykernel_20000/882581722.py\u001B[0m in \u001B[0;36m<module>\u001B[1;34m\u001B[0m\n\u001B[0;32m      4\u001B[0m \u001B[0mbrowser\u001B[0m\u001B[1;33m.\u001B[0m\u001B[0mimplicitly_wait\u001B[0m\u001B[1;33m(\u001B[0m\u001B[1;36m10\u001B[0m\u001B[1;33m)\u001B[0m\u001B[1;33m\u001B[0m\u001B[1;33m\u001B[0m\u001B[0m\n\u001B[0;32m      5\u001B[0m \u001B[0mbrowser\u001B[0m\u001B[1;33m.\u001B[0m\u001B[0mget\u001B[0m\u001B[1;33m(\u001B[0m\u001B[1;34m'https://www.zhihu.com/explore'\u001B[0m\u001B[1;33m)\u001B[0m\u001B[1;33m\u001B[0m\u001B[1;33m\u001B[0m\u001B[0m\n\u001B[1;32m----> 6\u001B[1;33m \u001B[0minput\u001B[0m \u001B[1;33m=\u001B[0m \u001B[0mbrowser\u001B[0m\u001B[1;33m.\u001B[0m\u001B[0mfind_element_by_class_name\u001B[0m\u001B[1;33m(\u001B[0m\u001B[1;34m'zu-top-add-question'\u001B[0m\u001B[1;33m)\u001B[0m\u001B[1;33m\u001B[0m\u001B[1;33m\u001B[0m\u001B[0m\n\u001B[0m\u001B[0;32m      7\u001B[0m \u001B[0mprint\u001B[0m\u001B[1;33m(\u001B[0m\u001B[0minput\u001B[0m\u001B[1;33m)\u001B[0m\u001B[1;33m\u001B[0m\u001B[1;33m\u001B[0m\u001B[0m\n",
      "\u001B[1;32md:\\program files\\python\\python39\\lib\\site-packages\\selenium\\webdriver\\remote\\webdriver.py\u001B[0m in \u001B[0;36mfind_element_by_class_name\u001B[1;34m(self, name)\u001B[0m\n\u001B[0;32m    562\u001B[0m             \u001B[0melement\u001B[0m \u001B[1;33m=\u001B[0m \u001B[0mdriver\u001B[0m\u001B[1;33m.\u001B[0m\u001B[0mfind_element_by_class_name\u001B[0m\u001B[1;33m(\u001B[0m\u001B[1;34m'foo'\u001B[0m\u001B[1;33m)\u001B[0m\u001B[1;33m\u001B[0m\u001B[1;33m\u001B[0m\u001B[0m\n\u001B[0;32m    563\u001B[0m         \"\"\"\n\u001B[1;32m--> 564\u001B[1;33m         \u001B[1;32mreturn\u001B[0m \u001B[0mself\u001B[0m\u001B[1;33m.\u001B[0m\u001B[0mfind_element\u001B[0m\u001B[1;33m(\u001B[0m\u001B[0mby\u001B[0m\u001B[1;33m=\u001B[0m\u001B[0mBy\u001B[0m\u001B[1;33m.\u001B[0m\u001B[0mCLASS_NAME\u001B[0m\u001B[1;33m,\u001B[0m \u001B[0mvalue\u001B[0m\u001B[1;33m=\u001B[0m\u001B[0mname\u001B[0m\u001B[1;33m)\u001B[0m\u001B[1;33m\u001B[0m\u001B[1;33m\u001B[0m\u001B[0m\n\u001B[0m\u001B[0;32m    565\u001B[0m \u001B[1;33m\u001B[0m\u001B[0m\n\u001B[0;32m    566\u001B[0m     \u001B[1;32mdef\u001B[0m \u001B[0mfind_elements_by_class_name\u001B[0m\u001B[1;33m(\u001B[0m\u001B[0mself\u001B[0m\u001B[1;33m,\u001B[0m \u001B[0mname\u001B[0m\u001B[1;33m)\u001B[0m\u001B[1;33m:\u001B[0m\u001B[1;33m\u001B[0m\u001B[1;33m\u001B[0m\u001B[0m\n",
      "\u001B[1;32md:\\program files\\python\\python39\\lib\\site-packages\\selenium\\webdriver\\remote\\webdriver.py\u001B[0m in \u001B[0;36mfind_element\u001B[1;34m(self, by, value)\u001B[0m\n\u001B[0;32m    974\u001B[0m                 \u001B[0mby\u001B[0m \u001B[1;33m=\u001B[0m \u001B[0mBy\u001B[0m\u001B[1;33m.\u001B[0m\u001B[0mCSS_SELECTOR\u001B[0m\u001B[1;33m\u001B[0m\u001B[1;33m\u001B[0m\u001B[0m\n\u001B[0;32m    975\u001B[0m                 \u001B[0mvalue\u001B[0m \u001B[1;33m=\u001B[0m \u001B[1;34m'[name=\"%s\"]'\u001B[0m \u001B[1;33m%\u001B[0m \u001B[0mvalue\u001B[0m\u001B[1;33m\u001B[0m\u001B[1;33m\u001B[0m\u001B[0m\n\u001B[1;32m--> 976\u001B[1;33m         return self.execute(Command.FIND_ELEMENT, {\n\u001B[0m\u001B[0;32m    977\u001B[0m             \u001B[1;34m'using'\u001B[0m\u001B[1;33m:\u001B[0m \u001B[0mby\u001B[0m\u001B[1;33m,\u001B[0m\u001B[1;33m\u001B[0m\u001B[1;33m\u001B[0m\u001B[0m\n\u001B[0;32m    978\u001B[0m             'value': value})['value']\n",
      "\u001B[1;32md:\\program files\\python\\python39\\lib\\site-packages\\selenium\\webdriver\\remote\\webdriver.py\u001B[0m in \u001B[0;36mexecute\u001B[1;34m(self, driver_command, params)\u001B[0m\n\u001B[0;32m    319\u001B[0m         \u001B[0mresponse\u001B[0m \u001B[1;33m=\u001B[0m \u001B[0mself\u001B[0m\u001B[1;33m.\u001B[0m\u001B[0mcommand_executor\u001B[0m\u001B[1;33m.\u001B[0m\u001B[0mexecute\u001B[0m\u001B[1;33m(\u001B[0m\u001B[0mdriver_command\u001B[0m\u001B[1;33m,\u001B[0m \u001B[0mparams\u001B[0m\u001B[1;33m)\u001B[0m\u001B[1;33m\u001B[0m\u001B[1;33m\u001B[0m\u001B[0m\n\u001B[0;32m    320\u001B[0m         \u001B[1;32mif\u001B[0m \u001B[0mresponse\u001B[0m\u001B[1;33m:\u001B[0m\u001B[1;33m\u001B[0m\u001B[1;33m\u001B[0m\u001B[0m\n\u001B[1;32m--> 321\u001B[1;33m             \u001B[0mself\u001B[0m\u001B[1;33m.\u001B[0m\u001B[0merror_handler\u001B[0m\u001B[1;33m.\u001B[0m\u001B[0mcheck_response\u001B[0m\u001B[1;33m(\u001B[0m\u001B[0mresponse\u001B[0m\u001B[1;33m)\u001B[0m\u001B[1;33m\u001B[0m\u001B[1;33m\u001B[0m\u001B[0m\n\u001B[0m\u001B[0;32m    322\u001B[0m             response['value'] = self._unwrap_value(\n\u001B[0;32m    323\u001B[0m                 response.get('value', None))\n",
      "\u001B[1;32md:\\program files\\python\\python39\\lib\\site-packages\\selenium\\webdriver\\remote\\errorhandler.py\u001B[0m in \u001B[0;36mcheck_response\u001B[1;34m(self, response)\u001B[0m\n\u001B[0;32m    240\u001B[0m                 \u001B[0malert_text\u001B[0m \u001B[1;33m=\u001B[0m \u001B[0mvalue\u001B[0m\u001B[1;33m[\u001B[0m\u001B[1;34m'alert'\u001B[0m\u001B[1;33m]\u001B[0m\u001B[1;33m.\u001B[0m\u001B[0mget\u001B[0m\u001B[1;33m(\u001B[0m\u001B[1;34m'text'\u001B[0m\u001B[1;33m)\u001B[0m\u001B[1;33m\u001B[0m\u001B[1;33m\u001B[0m\u001B[0m\n\u001B[0;32m    241\u001B[0m             \u001B[1;32mraise\u001B[0m \u001B[0mexception_class\u001B[0m\u001B[1;33m(\u001B[0m\u001B[0mmessage\u001B[0m\u001B[1;33m,\u001B[0m \u001B[0mscreen\u001B[0m\u001B[1;33m,\u001B[0m \u001B[0mstacktrace\u001B[0m\u001B[1;33m,\u001B[0m \u001B[0malert_text\u001B[0m\u001B[1;33m)\u001B[0m\u001B[1;33m\u001B[0m\u001B[1;33m\u001B[0m\u001B[0m\n\u001B[1;32m--> 242\u001B[1;33m         \u001B[1;32mraise\u001B[0m \u001B[0mexception_class\u001B[0m\u001B[1;33m(\u001B[0m\u001B[0mmessage\u001B[0m\u001B[1;33m,\u001B[0m \u001B[0mscreen\u001B[0m\u001B[1;33m,\u001B[0m \u001B[0mstacktrace\u001B[0m\u001B[1;33m)\u001B[0m\u001B[1;33m\u001B[0m\u001B[1;33m\u001B[0m\u001B[0m\n\u001B[0m\u001B[0;32m    243\u001B[0m \u001B[1;33m\u001B[0m\u001B[0m\n\u001B[0;32m    244\u001B[0m     \u001B[1;32mdef\u001B[0m \u001B[0m_value_or_default\u001B[0m\u001B[1;33m(\u001B[0m\u001B[0mself\u001B[0m\u001B[1;33m,\u001B[0m \u001B[0mobj\u001B[0m\u001B[1;33m,\u001B[0m \u001B[0mkey\u001B[0m\u001B[1;33m,\u001B[0m \u001B[0mdefault\u001B[0m\u001B[1;33m)\u001B[0m\u001B[1;33m:\u001B[0m\u001B[1;33m\u001B[0m\u001B[1;33m\u001B[0m\u001B[0m\n",
      "\u001B[1;31mNoSuchElementException\u001B[0m: Message: no such element: Unable to locate element: {\"method\":\"css selector\",\"selector\":\".zu-top-add-question\"}\n  (Session info: chrome=93.0.4577.82)\n"
     ]
    }
   ],
   "source": [
    "from selenium import webdriver\n",
    "\n",
    "browser = webdriver.Chrome()\n",
    "browser.implicitly_wait(10)\n",
    "browser.get('https://www.zhihu.com/explore')\n",
    "input = browser.find_element_by_class_name('zu-top-add-question')\n",
    "print(input)"
   ]
  },
  {
   "cell_type": "markdown",
   "id": "46489351-179a-4596-938d-ad29c846c8f5",
   "metadata": {},
   "source": [
    "+ **显示等待**\n",
    "1. 指定要查找的节点，设置一个最长等待时间\n",
    "2. 在规定时间内加载出来了这个节点，就返回这个节点\n",
    "3. 如果到了规定时间没有加载出来，则抛出超时异常"
   ]
  },
  {
   "cell_type": "code",
   "execution_count": 6,
   "id": "48b052a6-df5c-4612-be26-124ce4b8380d",
   "metadata": {},
   "outputs": [
    {
     "name": "stdout",
     "output_type": "stream",
     "text": [
      "<selenium.webdriver.remote.webelement.WebElement (session=\"d1ae110ca6e810336d46c4b91c13b62d\", element=\"c34f840b-323b-4bd7-b515-b4c5b1e85244\")> <selenium.webdriver.remote.webelement.WebElement (session=\"d1ae110ca6e810336d46c4b91c13b62d\", element=\"649f8906-b685-48e0-a23d-6d9f6bce3965\")>\n"
     ]
    }
   ],
   "source": [
    "from selenium import webdriver\n",
    "from selenium.webdriver.common.by import By\n",
    "from selenium.webdriver.support.ui import WebDriverWait\n",
    "from selenium.webdriver.support import expected_conditions as EC\n",
    "\n",
    "browser = webdriver.Chrome()\n",
    "browser.get('http://www.taobao.com/')\n",
    "wait = WebDriverWait(browser, 10)\n",
    "input = wait.until(EC.presence_of_element_located((By.ID, 'q')))\n",
    "button = wait.until(EC.element_to_be_clickable((By.CSS_SELECTOR, '.btn-search')))\n",
    "print(input, button)"
   ]
  },
  {
   "cell_type": "markdown",
   "id": "2a147bb7-6ff4-4909-aa5a-9728e8bdf46d",
   "metadata": {
    "tags": []
   },
   "source": [
    "## 12.前进和后退\n",
    "+ 前进: `forward()` 方法\n",
    "+ 后退：`back()` 方法"
   ]
  },
  {
   "cell_type": "markdown",
   "id": "b987d3ff-20e1-4e77-9936-1a7d8d96dd8f",
   "metadata": {
    "tags": []
   },
   "source": [
    "## 13. Cookies \n",
    "+ 获取：`get_cookies()`\n",
    "+ 添加：`add_cookie()`\n",
    "+ 删除：`delete_all_cookies()`"
   ]
  },
  {
   "cell_type": "markdown",
   "id": "2ac17761-f4dc-4435-9f6e-e782ea018c9d",
   "metadata": {},
   "source": [
    "## 14. 选项卡管理\n",
    "+ 开启新的选项卡\n",
    "调用 `execute_script()` 方法\n",
    "    - 传入 Javascript语句 `window.open()` 新开启一个选项卡\n",
    "+ 获取当前开启的所有选项卡\n",
    "调用 window_handles 属性：返回的是选项卡的代号列表\n",
    "+ 切换选项卡\n",
    "调用 `switch_to_window()` 方法\n",
    "    - 传入参数 `window_handles[i]`，i 表示第 i+1 个选项卡"
   ]
  },
  {
   "cell_type": "code",
   "execution_count": 14,
   "id": "dc2e0b9c-4722-4a2d-bfd5-63dde30a7c19",
   "metadata": {},
   "outputs": [],
   "source": [
    "from selenium import webdriver\n",
    "import time\n",
    "\n",
    "browser = webdriver.Chrome()\n",
    "browser.get('https://www.baidu.com/')\n",
    "browser.execute_script('window.open()')\n",
    "browser.switch_to.window(browser.window_handles[1])\n",
    "browser.get('https://www.taobao.com/')\n",
    "time.sleep(1)\n",
    "browser.switch_to.window(browser.window_handles[0])\n",
    "browser.get('https://python.org')"
   ]
  },
  {
   "cell_type": "code",
   "execution_count": null,
   "id": "73682174-f974-40e1-b23d-6d9773bcd231",
   "metadata": {},
   "outputs": [],
   "source": []
  }
 ],
 "metadata": {
  "kernelspec": {
   "display_name": "Python 3 (ipykernel)",
   "language": "python",
   "name": "python3"
  },
  "language_info": {
   "codemirror_mode": {
    "name": "ipython",
    "version": 3
   },
   "file_extension": ".py",
   "mimetype": "text/x-python",
   "name": "python",
   "nbconvert_exporter": "python",
   "pygments_lexer": "ipython3",
   "version": "3.9.0"
  }
 },
 "nbformat": 4,
 "nbformat_minor": 5
}
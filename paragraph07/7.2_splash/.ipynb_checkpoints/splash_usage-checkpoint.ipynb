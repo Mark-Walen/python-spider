{
 "cells": [
  {
   "cell_type": "markdown",
   "id": "f2d9b52c-1a34-4644-98ec-07c2498020b3",
   "metadata": {},
   "source": [
    "# 7.2 Splash 的使用\n",
    "> 是一个 Javascript渲染服务，一个带有 HTTP API 的轻量级浏览器，同它对接了 Python 中的 Twisted 和 QT 库\n",
    "\n",
    "## 1. 功能介绍\n",
    "+ 异步方式处理多个网页渲染过程\n",
    "+ 获取渲染后的页面的源代码或截图\n",
    "+ 通过关闭图片渲染或者使用 Adblock 规则来加快页面渲染速度\n",
    "+ 可执行特定的 Javascript 脚本\n",
    "+ 可通过 Lua 脚本来控制页面渲染过程\n",
    "+ 获取渲染的详细过程并通过 HAR 格式呈现。"
   ]
  },
  {
   "cell_type": "code",
   "execution_count": null,
   "id": "b3842a96-d63c-440d-b4e8-c0490960ad80",
   "metadata": {},
   "outputs": [],
   "source": []
  }
 ],
 "metadata": {
  "kernelspec": {
   "display_name": "Python 3 (ipykernel)",
   "language": "python",
   "name": "python3"
  },
  "language_info": {
   "codemirror_mode": {
    "name": "ipython",
    "version": 3
   },
   "file_extension": ".py",
   "mimetype": "text/x-python",
   "name": "python",
   "nbconvert_exporter": "python",
   "pygments_lexer": "ipython3",
   "version": "3.9.0"
  }
 },
 "nbformat": 4,
 "nbformat_minor": 5
}

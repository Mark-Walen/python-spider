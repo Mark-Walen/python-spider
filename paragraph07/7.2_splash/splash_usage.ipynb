{
 "cells": [
  {
   "cell_type": "markdown",
   "id": "7fbd97eb-9754-4643-be56-f8d13fdd05ee",
   "metadata": {
    "pycharm": {
     "name": "#%% md\n"
    }
   },
   "source": [
    "# 7.2 Splash 的使用\n",
    "## 1. Splash Lua 脚本\n",
    "* 入口及返回值"
   ]
  },
  {
   "cell_type": "raw",
   "id": "fe887e5a-cef4-4299-85ae-9974ce8e0d75",
   "metadata": {
    "pycharm": {
     "name": "#%% raw\n"
    }
   },
   "source": [
    "function main(splash, args)\n",
    "    splash:go(\"http://www.baidu.com\")\n",
    "    splash:wait(0.5)\n",
    "    local title = splash:evaljs(\"document.title\")\n",
    "    return {title=title}\n",
    "end"
   ]
  },
  {
   "cell_type": "markdown",
   "id": "35235c84-f733-4ec8-a972-af387e43f300",
   "metadata": {},
   "source": [
    "* 异步处理\n",
    "Splash 支持异步处理，但是这里并没有显示指明回调方法，其回调的跳转是在 Splash 内部完成的。"
   ]
  },
  {
   "cell_type": "code",
   "execution_count": null,
   "id": "e58383cb-c4df-4a80-a566-faf389daff38",
   "metadata": {},
   "outputs": [],
   "source": [
    "function main(splash, args)\n",
    "  local example_urls = {\"www.baidu.com\", \"www.taobao.com\", \"www.zhihu.com\"}\n",
    "  local urls = args.urls or example_urls\n",
    "  local results = {}\n",
    "  for index, url in ipairs(urls) do\n",
    "    local ok, reason = splash:go(\"http://\" .. url) # .. 拼接字符串\n",
    "    if ok then\n",
    "      splash:wait(2)\n",
    "      results[url] = splash:png()\n",
    "    end\n",
    "  end\n",
    "  return results\n",
    "end"
   ]
  },
  {
   "cell_type": "markdown",
   "id": "f9b57797-6b09-44c9-8ff1-7316027f06e3",
   "metadata": {},
   "source": [
    "## 2. Splash 对象属性\n",
    "* args\n",
    "可以获取加载配置的参数，比如 URL，如果为 GET 请求，它还可以获取 GET 请求参数\n",
    "* js_enabled\n",
    "这个属性是 Splash 的 JavaScript 执行开关\n",
    "* resource_timeout\n",
    "可以设置加载的超时时间，单位是秒。如果设置为 0 或 nil，代表不检测超时。\n",
    "* images_enabled\n",
    "此属性可以设置图片是否加载，默认情况下是加载的。禁用该属性后，可以节省网络流量并提高网页加载速度。\n",
    "* scroll_postion\n",
    "通过设置此属性，我们可以控制页面上下滚动或左右滚动。"
   ]
  },
  {
   "cell_type": "markdown",
   "id": "84d26cd1-50e5-4a5a-a8c8-b42e8e488e53",
   "metadata": {},
   "source": [
    "## 3. Splash 对象方法\n",
    "* go()\n",
    "  参数：\n",
    "  * url：请求的 URL\n",
    "  * baseurl：可选参数，默认为空，表示资源加载相对路径\n",
    "  * headers：可选参数，默认为空，表示请求头\n",
    "  * http_method：可选参数，默认为 GET，同时支持 POST。\n",
    "  * body：可选参数，默认为空，发 POST 请求时的表单数据。\n",
    "  * formdata：可选参数，默认为空,发 POST 请求时的表单数据。\n",
    "* call_later()\n",
    "  * 设置定时任务和延迟时间来实现任务延时执行，并且可以在执行前通过 cancel() 方法重新执行定时任务\n",
    "* http_get()\n",
    "  * 此方法可以模拟发送 HTTP 的 GET 请求\n",
    "  * 参数\n",
    "    * url：请求 URL\n",
    "    * headers：可选参数，默认为空，请求头。\n",
    "    * follow_redirects：可选参数，表示是否启动自动重定向，默认为 true。\n",
    "* http_post()\n",
    "* sent_content()\n",
    "  此方法用来设置页面的内容\n",
    "* html()\n",
    "  用来获取网页的源代码\n",
    "* png()\n",
    "  此方法用来获取 png 格式的网页截图\n",
    "* jpeg()\n",
    "  此方法用来获取 jpge 格式的网页截图\n",
    "* har()\n",
    "  此方法用来获取页面加载过程描述\n",
    "* url()\n",
    "* get_cookies()\n",
    "  获取当前页面的 Cookies\n",
    "* add_cookie()\n",
    "  为当前页面添加 Cookie\n",
    "* clear_cookies()\n",
    "* get_viewport_size()\n",
    "* set_viewport_size()\n",
    "* set_user_agent()\n",
    "* set_custom_headers()\n",
    "  此方法可以设置请求头\n",
    "* select()\n",
    "  该方法可以选中符合条件的第一个节点，如果有多个节点符合，则**只会返回一个**，其参数是 CSS 选择器。\n",
    "* select_all()\n",
    "  此方法可以选中所有符合条件的节点，其中参数是 CSS选择器。\n",
    "* mouse_click()\n",
    "  模拟鼠标点击操作，传入的参数为坐标值 x 和 y。此外，也可以直接选中某个节点，然后调用此方法。"
   ]
  },
  {
   "cell_type": "code",
   "execution_count": null,
   "id": "5bd35ea8-4b1a-4b29-8542-2f8564c9e055",
   "metadata": {},
   "outputs": [],
   "source": []
  }
 ],
 "metadata": {
  "kernelspec": {
   "display_name": "Python 3 (ipykernel)",
   "language": "python",
   "name": "python3"
  },
  "language_info": {
   "codemirror_mode": {
    "name": "ipython",
    "version": 3
   },
   "file_extension": ".py",
   "mimetype": "text/x-python",
   "name": "python",
   "nbconvert_exporter": "python",
   "pygments_lexer": "ipython3",
   "version": "3.9.0"
  }
 },
 "nbformat": 4,
 "nbformat_minor": 5
}